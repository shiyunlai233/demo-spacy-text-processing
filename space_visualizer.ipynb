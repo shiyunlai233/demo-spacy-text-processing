{
 "cells": [
  {
   "cell_type": "code",
   "execution_count": 12,
   "metadata": {
    "pycharm": {
     "is_executing": false
    }
   },
   "outputs": [],
   "source": [
    "import spacy\n",
    "from ipywidgets import interact, interactive, fixed, interact_manual\n",
    "\n",
    "\n",
    "import plotly.graph_objects as go\n",
    "\n",
    "import networkx as nx\n",
    "\n",
    "import plotly.io as pio\n",
    "pio.renderers.default = \"notebook\"\n",
    "\n"
   ]
  },
  {
   "cell_type": "code",
   "execution_count": 2,
   "metadata": {},
   "outputs": [
    {
     "data": {
      "text/plain": [
       "Renderers configuration\n",
       "-----------------------\n",
       "    Default renderer: 'notebook'\n",
       "    Available renderers:\n",
       "        ['plotly_mimetype', 'jupyterlab', 'nteract', 'vscode',\n",
       "         'notebook', 'notebook_connected', 'kaggle', 'azure', 'colab',\n",
       "         'cocalc', 'databricks', 'json', 'png', 'jpeg', 'jpg', 'svg',\n",
       "         'pdf', 'browser', 'firefox', 'chrome', 'chromium', 'iframe',\n",
       "         'iframe_connected', 'sphinx_gallery']"
      ]
     },
     "execution_count": 2,
     "metadata": {},
     "output_type": "execute_result"
    }
   ],
   "source": [
    "pio.renderers"
   ]
  },
  {
   "cell_type": "code",
   "execution_count": 3,
   "metadata": {
    "pycharm": {
     "is_executing": false
    }
   },
   "outputs": [],
   "source": [
    "import warnings\n",
    "\n",
    "warnings.filterwarnings('ignore')"
   ]
  },
  {
   "cell_type": "code",
   "execution_count": null,
   "metadata": {},
   "outputs": [],
   "source": []
  },
  {
   "cell_type": "code",
   "execution_count": 4,
   "metadata": {
    "pycharm": {
     "is_executing": false
    }
   },
   "outputs": [],
   "source": [
    "from spacy.tokens import Token\n",
    "Token.set_extension(\"show\", default = True)"
   ]
  },
  {
   "cell_type": "code",
   "execution_count": 5,
   "metadata": {
    "code_folding": [
     0,
     4,
     11
    ],
    "pycharm": {
     "is_executing": false
    }
   },
   "outputs": [],
   "source": [
    "def bianli_G(doc):\n",
    "    root_node = find_root(doc)\n",
    "    return bianli_node(root_node)\n",
    "    \n",
    "def bianli_node(node, show_all=False):\n",
    "    yield node\n",
    "    for c in node.children:\n",
    "        if next(c.ancestors)._.show or show_all:\n",
    "            for x in bianli_node(c):\n",
    "                yield x\n",
    "                \n",
    "def bianli_node_stable(node):\n",
    "    \"直接返回列表\"\n",
    "    tmp = list(bianli_node(node, show_all=True))\n",
    "    tmp.sort(key=lambda x : x.i)\n",
    "    return tmp"
   ]
  },
  {
   "cell_type": "code",
   "execution_count": 6,
   "metadata": {
    "code_folding": [
     0,
     5
    ],
    "pycharm": {
     "is_executing": false
    }
   },
   "outputs": [],
   "source": [
    "def find_root(doc):\n",
    "    for token in doc:\n",
    "        if token.dep_ == 'ROOT':\n",
    "            return token\n",
    "\n",
    "def make_G(doc):\n",
    "    G = nx.DiGraph()\n",
    "    for token in doc:\n",
    "        # print(token.text, token.pos_, token.dep_, list(a.i for a in token.children))\n",
    "        G.add_node(token)\n",
    "        for a in token.children:\n",
    "            G.add_edge(token, a)\n",
    "\n",
    "    pos = nx.planar_layout(G)\n",
    "    pos2 = {x:(b, a) for x, (a, b) in pos.items()}\n",
    "    return G, pos2"
   ]
  },
  {
   "cell_type": "code",
   "execution_count": null,
   "metadata": {},
   "outputs": [],
   "source": []
  },
  {
   "cell_type": "code",
   "execution_count": 7,
   "metadata": {
    "code_folding": [
     0,
     6
    ]
   },
   "outputs": [],
   "source": [
    "def _my_bianli_node(node, out, ceng=0):\n",
    "    out[node.i] = ceng\n",
    "    for c in node.children:\n",
    "        _my_bianli_node(c, out, ceng+1)\n",
    "        \n",
    "def my_new_make_G(doc, width=800, height=400):\n",
    "    G = nx.DiGraph()\n",
    "    for token in doc:\n",
    "        # print(token.text, token.pos_, token.dep_, list(a.i for a in token.children))\n",
    "        G.add_node(token)\n",
    "        for a in token.children:\n",
    "            G.add_edge(token, a)\n",
    "    \n",
    "    # 我自己加入的部分\n",
    "    ceng_of_nodes = [0] * len(G)\n",
    "    root_node = find_root(doc)\n",
    "    _my_bianli_node(root_node, ceng_of_nodes)\n",
    "    ceng_max = max(ceng_of_nodes)\n",
    "    ceng_of_nodes = [ceng_max-c for c in ceng_of_nodes]\n",
    "    Ys = [c/ceng_max*height for c in ceng_of_nodes]\n",
    "    Xs = [i/len(doc)*width for i in range(len(doc))]\n",
    "    pos = {token: (Xs[token.i], Ys[token.i]) for token in doc}\n",
    "\n",
    "    return G, pos"
   ]
  },
  {
   "cell_type": "code",
   "execution_count": 8,
   "metadata": {
    "code_folding": [
     0,
     16,
     30,
     52
    ],
    "pycharm": {
     "is_executing": false
    }
   },
   "outputs": [],
   "source": [
    "def make_annotations(pos, doc, font_size=15, font_color=None):\n",
    "    doc_show = list(bianli_G(doc))\n",
    "    annotations = []\n",
    "    for token in doc_show:\n",
    "        text = token.text if token._.show else \" \".join(a.text for a in bianli_node_stable(token))\n",
    "        annotations.append(\n",
    "            dict(\n",
    "                text=text, # or replace labels with a different list for the text within the circle\n",
    "                textangle = textangle,\n",
    "                x=pos[token][0], y=pos[token][1],\n",
    "                xref='x1', yref='y1',\n",
    "                font=dict(color=font_color, size=font_size),\n",
    "                showarrow=False)\n",
    "        )\n",
    "    return annotations\n",
    "\n",
    "def get_plot_data(G, pos, doc):\n",
    "    doc_show = list(bianli_G(doc))\n",
    "    Xn=[pos[token][0] for token in doc_show]\n",
    "    Yn=[pos[token][1] for token in doc_show]\n",
    "    Xe=[]\n",
    "    Ye=[]\n",
    "    for edge_a, edge_b in G.edges:\n",
    "        if edge_a in doc_show and edge_b in doc_show:\n",
    "            Xe+=[pos[edge_a][0],pos[edge_b][0], None]\n",
    "            Ye+=[pos[edge_a][1],pos[edge_b][1], None]\n",
    "\n",
    "    text = [token.pos_ for token in doc_show]\n",
    "    return Xn, Yn, Xe, Ye, text\n",
    "\n",
    "def update_point(trace, points, selector):\n",
    "    global f, G, doc, pos\n",
    "    doc_show = list(bianli_G(doc))\n",
    "    for i in points.point_inds:\n",
    "        doc_show[i]._.show = not doc_show[i]._.show\n",
    "        # print(\"Clicked\", doc[i]._.show)\n",
    "    f.update_layout(annotations=make_annotations(pos, doc), width=width, height=height)\n",
    "    f.update_annotations(dict(\n",
    "        xref=\"x\",\n",
    "        yref=\"y\",\n",
    "        showarrow=True,\n",
    "        arrowhead=7,\n",
    "        arrowcolor = arrowcolor,\n",
    "        ax=arraw_x,\n",
    "        ay=arraw_len\n",
    "    ))\n",
    "    Xn, Yn, Xe, Ye, text = get_plot_data(G, pos, doc)   \n",
    "    f.data[0].x = Xe\n",
    "    f.data[0].y = Ye\n",
    "    f.data[1].x = Xn\n",
    "    f.data[1].y = Yn\n",
    "    \n",
    "def plot_G(G, pos, doc):\n",
    "    global f\n",
    "    Xn, Yn, Xe, Ye, text =  get_plot_data(G, pos, doc)   \n",
    "    f = go.FigureWidget([go.Scatter(x=Xe,\n",
    "                   y=Ye,\n",
    "                   mode='lines',\n",
    "                   name='dep',\n",
    "                   line=dict(color=line_color, width=1),\n",
    "                   hoverinfo='none'\n",
    "                   ),\n",
    "                    go.Scatter(x=Xn,\n",
    "                  y=Yn,\n",
    "                  mode='markers',\n",
    "                  name='tokens',\n",
    "                  marker=dict(symbol='circle-dot',\n",
    "                                size=18,\n",
    "                                color=circle_fill_color,    \n",
    "                                line=dict(color=circle_stroke_color, width=1)\n",
    "                                ),\n",
    "                  text=text,  # 之后可以考虑把这里做成中文词性说明\n",
    "                  hoverinfo='text',\n",
    "                  opacity=circle_opacity)\n",
    "                    ])\n",
    "\n",
    "    \n",
    "    axis = dict(showline=False, # hide axis line, grid, ticklabels and  title\n",
    "            zeroline=False,\n",
    "            showgrid=False,\n",
    "            showticklabels=False,\n",
    "            )\n",
    "    \n",
    "    \n",
    "\n",
    "    \n",
    "    f.update_layout(title= 'Spacy Visualizer V1',\n",
    "            width=width,\n",
    "            height=height,\n",
    "            annotations=make_annotations(pos, doc, font_color = font_color),\n",
    "            font_size=16,\n",
    "            showlegend=False,\n",
    "            xaxis=axis,\n",
    "            yaxis=axis,\n",
    "            margin=dict(l=100, r=100, b=85, t=100),\n",
    "            hovermode='closest',\n",
    "            plot_bgcolor=background_color\n",
    "            )\n",
    "    \n",
    "    f.update_annotations(dict(\n",
    "        xref=\"x\",\n",
    "        yref=\"y\",\n",
    "        showarrow=True,\n",
    "        arrowhead=7,\n",
    "        arrowcolor = arrowcolor,\n",
    "        ax=arraw_x,\n",
    "        ay=arraw_len\n",
    "    ))\n",
    "    \n",
    "    scatter = f.data[1]\n",
    "    scatter.on_click(update_point)\n",
    "\n",
    "    return f"
   ]
  },
  {
   "cell_type": "code",
   "execution_count": null,
   "metadata": {},
   "outputs": [],
   "source": []
  },
  {
   "cell_type": "code",
   "execution_count": null,
   "metadata": {},
   "outputs": [],
   "source": []
  },
  {
   "cell_type": "code",
   "execution_count": null,
   "metadata": {},
   "outputs": [],
   "source": []
  },
  {
   "cell_type": "code",
   "execution_count": null,
   "metadata": {},
   "outputs": [],
   "source": []
  },
  {
   "cell_type": "code",
   "execution_count": 9,
   "metadata": {
    "code_folding": []
   },
   "outputs": [],
   "source": [
    "# 画图时候使用的常量\n",
    "line_color = \"#aa98d5\"\n",
    "circle_fill_color = \"white\"\n",
    "circle_stroke_color = \"white\"\n",
    "background_color = \"white\"\n",
    "text_color = \"black\"\n",
    "font_color = \"black\"\n",
    "circle_opacity = 0.1\n",
    "arraw_x = 0\n",
    "arraw_len = 0\n",
    "arrowcolor = 'green'\n",
    "width = 1000\n",
    "height = 800\n",
    "textangle = 20\n",
    "\n",
    "sentens = \"\"\"Stone does not decay, and so the tools of long ago have remained when even the bones of the men who made them have disappeared without trace.\"\"\""
   ]
  },
  {
   "cell_type": "code",
   "execution_count": 10,
   "metadata": {
    "code_folding": [],
    "pycharm": {
     "is_executing": false
    }
   },
   "outputs": [],
   "source": [
    "def my_main(sentens=sentens):\n",
    "    global f, G, doc, pos\n",
    "    nlp = spacy.load(\"en_core_web_lg\")\n",
    "    doc = nlp(sentens)\n",
    "    G, pos = my_new_make_G(doc)\n",
    "    \n",
    "    root_node = find_root(doc) # 根节点\n",
    "    f = plot_G(G, pos, doc)\n",
    "    return f\n",
    "    \n"
   ]
  },
  {
   "cell_type": "code",
   "execution_count": 13,
   "metadata": {
    "pycharm": {
     "is_executing": false
    }
   },
   "outputs": [
    {
     "data": {
      "application/vnd.jupyter.widget-view+json": {
       "model_id": "752a69d4537946379e90964cbfe0240a",
       "version_major": 2,
       "version_minor": 0
      },
      "text/plain": [
       "interactive(children=(Text(value='Stone does not decay, and so the tools of long ago have remained when even t…"
      ]
     },
     "metadata": {},
     "output_type": "display_data"
    }
   ],
   "source": [
    "interact(my_main, sentens=sentens);"
   ]
  },
  {
   "cell_type": "code",
   "execution_count": null,
   "metadata": {
    "pycharm": {
     "is_executing": false
    }
   },
   "outputs": [],
   "source": []
  },
  {
   "cell_type": "code",
   "execution_count": null,
   "metadata": {
    "pycharm": {
     "is_executing": true
    },
    "scrolled": false
   },
   "outputs": [],
   "source": []
  },
  {
   "cell_type": "code",
   "execution_count": null,
   "metadata": {
    "pycharm": {
     "is_executing": true
    }
   },
   "outputs": [],
   "source": []
  },
  {
   "cell_type": "code",
   "execution_count": null,
   "metadata": {
    "code_folding": [],
    "pycharm": {
     "is_executing": true
    }
   },
   "outputs": [],
   "source": []
  },
  {
   "cell_type": "code",
   "execution_count": null,
   "metadata": {
    "code_folding": [],
    "pycharm": {
     "is_executing": true
    }
   },
   "outputs": [],
   "source": []
  },
  {
   "cell_type": "code",
   "execution_count": null,
   "metadata": {
    "pycharm": {
     "is_executing": true
    }
   },
   "outputs": [],
   "source": []
  },
  {
   "cell_type": "code",
   "execution_count": null,
   "metadata": {
    "pycharm": {
     "is_executing": true
    }
   },
   "outputs": [],
   "source": []
  },
  {
   "cell_type": "code",
   "execution_count": null,
   "metadata": {},
   "outputs": [],
   "source": []
  }
 ],
 "metadata": {
  "kernelspec": {
   "display_name": "Python 3",
   "language": "python",
   "name": "python3"
  },
  "language_info": {
   "codemirror_mode": {
    "name": "ipython",
    "version": 3
   },
   "file_extension": ".py",
   "mimetype": "text/x-python",
   "name": "python",
   "nbconvert_exporter": "python",
   "pygments_lexer": "ipython3",
   "version": "3.7.4"
  },
  "pycharm": {
   "stem_cell": {
    "cell_type": "raw",
    "metadata": {
     "collapsed": false
    },
    "source": []
   }
  }
 },
 "nbformat": 4,
 "nbformat_minor": 2
}
